{
 "cells": [
  {
   "cell_type": "code",
   "execution_count": 3,
   "metadata": {},
   "outputs": [],
   "source": [
    "import piexif\n",
    "import fractions\n",
    "import requests\n",
    "import math\n",
    "from helpers import *"
   ]
  },
  {
   "cell_type": "code",
   "execution_count": 9,
   "metadata": {},
   "outputs": [
    {
     "name": "stdout",
     "output_type": "stream",
     "text": [
      "The sensor size of Apple iPhone 11 is 0.0064m x 0.0048m.\n"
     ]
    }
   ],
   "source": [
    "image_path = './../images/avalanche.jpeg'\n",
    "# Example usage\n",
    "camera = \"Apple iPhone 11\"\n",
    "sensor_size = get_sensor_size(camera)\n",
    "if sensor_size != \"Camera not found.\":\n",
    "    print(f\"The sensor size of {camera} is {sensor_size[0]}m x {sensor_size[1]}m.\")\n",
    "else:\n",
    "    print(sensor_size)\n"
   ]
  },
  {
   "cell_type": "code",
   "execution_count": 5,
   "metadata": {},
   "outputs": [
    {
     "name": "stdout",
     "output_type": "stream",
     "text": [
      "latitude is None, longitude is None, and focal lenght is 0.00596\n"
     ]
    }
   ],
   "source": [
    "# Example usage heix extraction\n",
    "image_path = './../images/avalanche.jpeg'\n",
    "latitude, longitude, focal_length = get_exif_data(image_path)\n",
    "print(f\"latitude is {latitude}, longitude is {longitude}, and focal lenght is {focal_length}\")\n"
   ]
  },
  {
   "cell_type": "code",
   "execution_count": 6,
   "metadata": {},
   "outputs": [
    {
     "name": "stdout",
     "output_type": "stream",
     "text": [
      "The altitude is 2156.1\n",
      "The east slope is  4.573921259901898 degrees\n",
      "The north slope is  -41.987212495816664 degrees\n"
     ]
    }
   ],
   "source": [
    "# Example usage get estimation or get the gradients (NOTE COORDINATES IN SWISS SYSTEM)\n",
    "height = get_elevation(2684500,1173301)\n",
    "print(f\"The altitude is {height}\")\n",
    "\n",
    "(angle_east_avalanche, angle_north_avalanche) = compute_steepness_angles(2684500, 1173301, delta=5, sr=None)\n",
    "print(f\"The east slope is  {angle_east_avalanche} degrees\")\n",
    "print(f\"The north slope is  {angle_north_avalanche} degrees\")"
   ]
  },
  {
   "cell_type": "code",
   "execution_count": 8,
   "metadata": {},
   "outputs": [
    {
     "name": "stdout",
     "output_type": "stream",
     "text": [
      "The distance is 205.7085316655583 and the estimated size id 10999.509865902179 square meters\n"
     ]
    }
   ],
   "source": [
    "## EXAMPLE: ESTIMATION OF AVALANCHE SIZE\n",
    "camera_name = 'Xiaomi 11 Pro'\n",
    "latitude, longitude, focal_length = get_exif_data(image_path)\n",
    "w,h = get_sensor_size(camera_name)\n",
    "# Example positions (already given in the problem)\n",
    "photoposition = [2684500, 1173301]\n",
    "avalancheposition = [2684458, 1173135]\n",
    "\n",
    "# Add elevations for both positions\n",
    "photoposition.append(get_elevation(photoposition[0], photoposition[1]))\n",
    "avalancheposition.append(get_elevation(avalancheposition[0], avalancheposition[1]))\n",
    "\n",
    "# Check if elevations are valid before proceeding\n",
    "if photoposition[2] is None or avalancheposition[2] is None:\n",
    "    print(\"Error: Unable to retrieve elevation data.\")\n",
    "else:\n",
    "    # Compute steepness angles for the avalanche position (and optionally for the photo position too)\n",
    "    (angle_east_avalanche, angle_north_avalanche) = compute_steepness_angles(avalancheposition[0], avalancheposition[1], delta=5, sr=None)\n",
    "    (angle_east_photo, angle_north_photo) = compute_steepness_angles(photoposition[0], photoposition[1], delta=5, sr=None)\n",
    "\n",
    "    # Compute the 3D distance between the two positions (easting, northing, elevation)\n",
    "    distance = compute_3d_distance(photoposition[0], photoposition[1], photoposition[2], avalancheposition[0], avalancheposition[1], avalancheposition[2])\n",
    "\n",
    "    # Compute the angle differences (angles between observer and avalanche)\n",
    "    angle_east_diff = angle_east_avalanche - angle_east_photo\n",
    "    angle_north_diff = angle_north_avalanche - angle_north_photo\n",
    "    \n",
    "image_path = './../images/avalanche.jpeg'\n",
    "#mask = getSamSegmentation(image_path)\n",
    "mask = 0.3\n",
    "finalsize = computeAvalancheSize(mask, distance, focal_length, sensor_size, (angle_east_diff,angle_north_diff))\n",
    "print(f\"The distance is {distance} and the estimated size id {finalsize} square meters\")"
   ]
  },
  {
   "cell_type": "code",
   "execution_count": null,
   "metadata": {},
   "outputs": [],
   "source": []
  }
 ],
 "metadata": {
  "kernelspec": {
   "display_name": "diffusers",
   "language": "python",
   "name": "python3"
  },
  "language_info": {
   "codemirror_mode": {
    "name": "ipython",
    "version": 3
   },
   "file_extension": ".py",
   "mimetype": "text/x-python",
   "name": "python",
   "nbconvert_exporter": "python",
   "pygments_lexer": "ipython3",
   "version": "3.11.9"
  }
 },
 "nbformat": 4,
 "nbformat_minor": 2
}
